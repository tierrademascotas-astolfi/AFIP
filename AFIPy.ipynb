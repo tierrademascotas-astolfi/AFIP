{
 "cells": [
  {
   "cell_type": "code",
   "execution_count": 1,
   "metadata": {},
   "outputs": [],
   "source": [
    "import AFIPy as AFIP"
   ]
  },
  {
   "cell_type": "code",
   "execution_count": 2,
   "metadata": {},
   "outputs": [],
   "source": [
    "# Paquetes.\n",
    "import shutil\n",
    "import os\n",
    "import time\n",
    "import pandas as pd\n",
    "from typing import Any\n",
    "from openpyxl import load_workbook\n",
    "from openpyxl.styles import NamedStyle, Alignment\n",
    "from selenium import webdriver\n",
    "from selenium.webdriver.remote.webdriver import WebDriver\n",
    "from selenium.webdriver.support.ui import WebDriverWait, Select\n",
    "from selenium.webdriver.common.by import By\n",
    "from selenium.webdriver.common.keys import Keys\n",
    "from selenium.webdriver.support.ui import WebDriverWait\n",
    "from selenium.webdriver.support import expected_conditions as EC\n",
    "from selenium.common.exceptions import TimeoutException"
   ]
  },
  {
   "cell_type": "code",
   "execution_count": 2,
   "metadata": {},
   "outputs": [
    {
     "data": {
      "text/plain": [
       "['26/12/2024', '27/12/2024', '28/12/2024', '29/12/2024']"
      ]
     },
     "execution_count": 2,
     "metadata": {},
     "output_type": "execute_result"
    }
   ],
   "source": [
    "# Fechas a facturar.\n",
    "Fechas = AFIP.Generate_Previous_Days_List()"
   ]
  },
  {
   "cell_type": "code",
   "execution_count": null,
   "metadata": {},
   "outputs": [],
   "source": [
    "# Variables globales.\n",
    "Ruta_Descarga_Payway = 'C:/Users/tomas/Downloads'\n",
    "Nombre_Viejo = 'Movimientos En Linea Delimitado por comas.csv'\n",
    "Ruta_Nueva_Payway = 'J:/My Drive/Forraje/AFIP' \n",
    "Nombre_Nuevo = 'Payway.csv'\n",
    "Email_Payway = 'carolina8101924@gmail.com'\n",
    "Contraseña_Payway = '123Nogue$'\n",
    "Usuario_AFIP = '27202147025'\n",
    "Contraseña_AFIP = '123Patricio$'\n",
    "Empresa = 'MARQUEZ CAROLINA MARIEL'\n",
    "Punto_de_Ventas = '00002-Las Piedras 2837 - Kilometro 45, Buenos Aires'\n",
    "Tipo_Comprobante = 'Factura C'\n",
    "Tipo_Concepto = 'Productos'\n",
    "Tipo_Condicion_IVA = 'Consumidor Final'\n",
    "Tipo_Pago = 'Contado'\n",
    "Tipo_Comprobante_Valor = AFIP.Tipos_de_Comprobantes.get(Tipo_Comprobante)\n",
    "Tipo_Concepto_Valor = AFIP.Tipos_de_Conceptos.get(Tipo_Concepto)\n",
    "Tipo_Condicion_IVA_Valor = AFIP.Tipos_Condicion_IVA.get(Tipo_Condicion_IVA)"
   ]
  },
  {
   "cell_type": "code",
   "execution_count": 5,
   "metadata": {},
   "outputs": [],
   "source": [
    "# Abrir pestaña de Payway.\n",
    "Payway = AFIP.Initialize_Chrome_Driver()"
   ]
  },
  {
   "cell_type": "code",
   "execution_count": 6,
   "metadata": {},
   "outputs": [
    {
     "data": {
      "text/plain": [
       "<selenium.webdriver.chrome.webdriver.WebDriver (session=\"c846b3fcb6c85c0b9219894c19e6f623\")>"
      ]
     },
     "execution_count": 6,
     "metadata": {},
     "output_type": "execute_result"
    }
   ],
   "source": [
    "# Descargar documento de Payway.\n",
    "AFIP.Download_CSV_From_Payway(Payway, Email_Payway, Contraseña_Payway)"
   ]
  },
  {
   "cell_type": "code",
   "execution_count": 7,
   "metadata": {},
   "outputs": [],
   "source": [
    "# Esperar descarga del CSV.\n",
    "AFIP.Wait_For_Download(f'{Ruta_Descarga_Payway}/{Nombre_Viejo}')"
   ]
  },
  {
   "cell_type": "code",
   "execution_count": 8,
   "metadata": {},
   "outputs": [],
   "source": [
    "# Mover y renombrar archivo CSV.\n",
    "AFIP.Move_And_Rename_File(Ruta_Descarga_Payway, Nombre_Viejo, Ruta_Nueva_Payway, Nombre_Nuevo)"
   ]
  },
  {
   "cell_type": "code",
   "execution_count": 5,
   "metadata": {},
   "outputs": [],
   "source": [
    "# Crear DataFrame del CSV.\n",
    "df = pd.read_csv(Ruta_Nueva_Payway + '/' + Nombre_Nuevo, skiprows=1)"
   ]
  },
  {
   "cell_type": "code",
   "execution_count": 6,
   "metadata": {},
   "outputs": [],
   "source": [
    "# Dividir filas con valores mayores a 100000.\n",
    "df = AFIP.Split_Rows_By_Threshold(df, 'MONTO_BRUTO', 100000)"
   ]
  },
  {
   "cell_type": "code",
   "execution_count": 7,
   "metadata": {},
   "outputs": [],
   "source": [
    "# Retocar CSV para que quede preparado para su utilización.\n",
    "AFIP.Process_And_Save_Dataframe(df, f'{Ruta_Nueva_Payway}/AFIP.xlsx')"
   ]
  },
  {
   "cell_type": "code",
   "execution_count": 8,
   "metadata": {},
   "outputs": [],
   "source": [
    "# Ruta del archivo con los precios a subir.\n",
    "Archivo = f'{Ruta_Nueva_Payway}/AFIP.xlsx'"
   ]
  },
  {
   "cell_type": "code",
   "execution_count": 9,
   "metadata": {},
   "outputs": [],
   "source": [
    "# Crear DataFrame final para facturar.\n",
    "df = pd.read_excel(Archivo)"
   ]
  },
  {
   "cell_type": "code",
   "execution_count": 10,
   "metadata": {},
   "outputs": [],
   "source": [
    "# Filtrar df con las fechas especificadas al comienzo.\n",
    "df = df[df['Fecha'].isin(Fechas)]"
   ]
  },
  {
   "cell_type": "code",
   "execution_count": 11,
   "metadata": {},
   "outputs": [],
   "source": [
    "# Resetear el índice del DataFrame.\n",
    "df = df.reset_index(drop=True)"
   ]
  },
  {
   "cell_type": "code",
   "execution_count": 12,
   "metadata": {},
   "outputs": [],
   "source": [
    "# Variables para las columnas.\n",
    "Fecha = df['Fecha']\n",
    "Descripcion = df['Descripción']\n",
    "Precio = df['Precio']"
   ]
  },
  {
   "cell_type": "code",
   "execution_count": 13,
   "metadata": {},
   "outputs": [],
   "source": [
    "# Abrir pestaña de AFIP.\n",
    "Afip = AFIP.Initialize_Chrome_Driver()"
   ]
  },
  {
   "cell_type": "code",
   "execution_count": 14,
   "metadata": {},
   "outputs": [
    {
     "data": {
      "text/plain": [
       "<selenium.webdriver.chrome.webdriver.WebDriver (session=\"56b9e798f559a7e3c64243176da0d77a\")>"
      ]
     },
     "execution_count": 14,
     "metadata": {},
     "output_type": "execute_result"
    }
   ],
   "source": [
    "# Loguearse en AFIP.\n",
    "AFIP.Login_To_AFIP(Afip, Usuario_AFIP, Contraseña_AFIP, Empresa)"
   ]
  },
  {
   "cell_type": "code",
   "execution_count": 15,
   "metadata": {},
   "outputs": [],
   "source": [
    "# Bucle de facturación en AFIP producto a producto.\n",
    "for i in range (0, len(Descripcion)):\n",
    "    AFIP.Generate_Invoice(Afip, \n",
    "                          Punto_de_Ventas, \n",
    "                          Tipo_Comprobante_Valor,\n",
    "                          Fecha[i], \n",
    "                          Tipo_Concepto_Valor, \n",
    "                          Tipo_Condicion_IVA_Valor, \n",
    "                          Tipo_Pago, \n",
    "                          Descripcion[i], \n",
    "                          Precio[i])"
   ]
  },
  {
   "cell_type": "code",
   "execution_count": null,
   "metadata": {},
   "outputs": [],
   "source": [
    "# Cerrar todas las pestañas.\n",
    "AFIP.Close_All_Chrome_Tabs(Afip)\n",
    "AFIP.Close_All_Chrome_Tabs(Payway)"
   ]
  },
  {
   "cell_type": "code",
   "execution_count": null,
   "metadata": {},
   "outputs": [],
   "source": []
  }
 ],
 "metadata": {
  "kernelspec": {
   "display_name": "Python 3",
   "language": "python",
   "name": "python3"
  },
  "language_info": {
   "codemirror_mode": {
    "name": "ipython",
    "version": 3
   },
   "file_extension": ".py",
   "mimetype": "text/x-python",
   "name": "python",
   "nbconvert_exporter": "python",
   "pygments_lexer": "ipython3",
   "version": "3.11.9"
  }
 },
 "nbformat": 4,
 "nbformat_minor": 2
}
